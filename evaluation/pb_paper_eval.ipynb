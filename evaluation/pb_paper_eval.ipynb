{
 "cells": [
  {
   "cell_type": "markdown",
   "metadata": {},
   "source": [
    "# Evaluation of GLTR for Polar Bear Paper"
   ]
  },
  {
   "cell_type": "code",
   "execution_count": 6,
   "metadata": {},
   "outputs": [
    {
     "name": "stdout",
     "output_type": "stream",
     "text": [
      "The autoreload extension is already loaded. To reload it, use:\n",
      "  %reload_ext autoreload\n"
     ]
    }
   ],
   "source": [
    "%matplotlib widget\n",
    "%load_ext autoreload\n",
    "%autoreload 2"
   ]
  },
  {
   "cell_type": "code",
   "execution_count": 7,
   "metadata": {},
   "outputs": [],
   "source": [
    "import numpy as np\n",
    "import pandas as pd\n",
    "import os\n",
    "import matplotlib.pyplot as plt\n",
    "import random as rnd\n",
    "from fau_colors import cmaps\n",
    "from matplotlib import patches as mpatches\n",
    "from pb_evaluation import PBEvaluation\n",
    "\n",
    "colors = cmaps.faculties_all"
   ]
  },
  {
   "cell_type": "markdown",
   "metadata": {},
   "source": [
    "## Process GLTR Feature Vectors\n",
    "\n",
    "Use the PBEvaluation class to get Rank-1 and mAP metrics for the GLTR feature vectors  \n",
    "Save the resulting files into csv files"
   ]
  },
  {
   "cell_type": "code",
   "execution_count": 8,
   "metadata": {},
   "outputs": [],
   "source": [
    "# def paths\n",
    "dataset_path = '/Users/nilssteinlein/Documents/Projects/PiT/data/PolarBearVidID'\n",
    "feature_path = '/Users/nilssteinlein/Documents/Projects/PiT/logs/PolarBearVidID_PiT/feature_vectors'\n",
    "epoch = 120"
   ]
  },
  {
   "cell_type": "code",
   "execution_count": 9,
   "metadata": {},
   "outputs": [],
   "source": [
    "# Setup\n",
    "fold_file_r1, fold_file_map = None, None\n",
    "r1_data, map_data = [], []\n",
    "mAPs, rank1s = [], []\n",
    "zoos = None"
   ]
  },
  {
   "cell_type": "code",
   "execution_count": 10,
   "metadata": {},
   "outputs": [
    {
     "name": "stdout",
     "output_type": "stream",
     "text": [
      "\n",
      "Evaluate Fold 1\n"
     ]
    },
    {
     "ename": "ValueError",
     "evalue": "the number of columns changed from 9216 to 344 at row 246; use `usecols` to select a subset and avoid this error",
     "output_type": "error",
     "traceback": [
      "\u001b[0;31m---------------------------------------------------------------------------\u001b[0m",
      "\u001b[0;31mValueError\u001b[0m                                Traceback (most recent call last)",
      "\u001b[1;32m/Users/nilssteinlein/Documents/Projects/PiT/evaluation/pb_paper_eval.ipynb Cell 7\u001b[0m line \u001b[0;36m1\n\u001b[1;32m     <a href='vscode-notebook-cell:/Users/nilssteinlein/Documents/Projects/PiT/evaluation/pb_paper_eval.ipynb#W6sZmlsZQ%3D%3D?line=11'>12</a>\u001b[0m \u001b[39mif\u001b[39;00m zoos \u001b[39mis\u001b[39;00m \u001b[39mNone\u001b[39;00m:\n\u001b[1;32m     <a href='vscode-notebook-cell:/Users/nilssteinlein/Documents/Projects/PiT/evaluation/pb_paper_eval.ipynb#W6sZmlsZQ%3D%3D?line=12'>13</a>\u001b[0m     zoos \u001b[39m=\u001b[39m pb_eval\u001b[39m.\u001b[39mzoos\n\u001b[0;32m---> <a href='vscode-notebook-cell:/Users/nilssteinlein/Documents/Projects/PiT/evaluation/pb_paper_eval.ipynb#W6sZmlsZQ%3D%3D?line=14'>15</a>\u001b[0m mAP, CMC, mAP_per_id, CMC_per_id \u001b[39m=\u001b[39m pb_eval\u001b[39m.\u001b[39;49meval_single_feat_file(epoch, \u001b[39mf\u001b[39;49m\u001b[39m'\u001b[39;49m\u001b[39mfeature_vectors_epoch_\u001b[39;49m\u001b[39m{\u001b[39;49;00mi\u001b[39m \u001b[39;49m\u001b[39m+\u001b[39;49m\u001b[39m \u001b[39;49m\u001b[39m1\u001b[39;49m\u001b[39m}\u001b[39;49;00m\u001b[39m'\u001b[39;49m)\n\u001b[1;32m     <a href='vscode-notebook-cell:/Users/nilssteinlein/Documents/Projects/PiT/evaluation/pb_paper_eval.ipynb#W6sZmlsZQ%3D%3D?line=15'>16</a>\u001b[0m mAPs\u001b[39m.\u001b[39mappend(mAP)\n\u001b[1;32m     <a href='vscode-notebook-cell:/Users/nilssteinlein/Documents/Projects/PiT/evaluation/pb_paper_eval.ipynb#W6sZmlsZQ%3D%3D?line=16'>17</a>\u001b[0m rank1s\u001b[39m.\u001b[39mappend(CMC[\u001b[39m0\u001b[39m])\n",
      "File \u001b[0;32m~/Documents/Projects/PiT/evaluation/pb_evaluation.py:164\u001b[0m, in \u001b[0;36mPBEvaluation.eval_single_feat_file\u001b[0;34m(self, epoch, feat_file)\u001b[0m\n\u001b[1;32m    154\u001b[0m \u001b[39m\u001b[39m\u001b[39m\"\"\"Computes CMC and mAP for a single feature file.\u001b[39;00m\n\u001b[1;32m    155\u001b[0m \n\u001b[1;32m    156\u001b[0m \u001b[39mArgs:\u001b[39;00m\n\u001b[0;32m   (...)\u001b[0m\n\u001b[1;32m    161\u001b[0m \u001b[39m    mAP, CMC, mAP_per_id, CMC_per_id: Of one epoch.\u001b[39;00m\n\u001b[1;32m    162\u001b[0m \u001b[39m\"\"\"\u001b[39;00m\n\u001b[1;32m    163\u001b[0m \u001b[39m# read feature file\u001b[39;00m\n\u001b[0;32m--> 164\u001b[0m box_feature_test \u001b[39m=\u001b[39m np\u001b[39m.\u001b[39;49mloadtxt(os\u001b[39m.\u001b[39;49mpath\u001b[39m.\u001b[39;49mjoin(\u001b[39mself\u001b[39;49m\u001b[39m.\u001b[39;49mfeat_dir, feat_file))\n\u001b[1;32m    165\u001b[0m \u001b[39m# box_feature_test = pd.read_csv(os.path.join(self.feat_dir, feat_file), delimiter=' ', header=None)\u001b[39;00m\n\u001b[1;32m    166\u001b[0m \n\u001b[1;32m    167\u001b[0m \n\u001b[1;32m    168\u001b[0m \n\u001b[1;32m    169\u001b[0m \u001b[39m# assert len(box_feature_test) == len(self.track_test_info)\u001b[39;00m\n\u001b[1;32m    170\u001b[0m box_feature_test \u001b[39m=\u001b[39m box_feature_test\u001b[39m.\u001b[39mT  \u001b[39m# transpose data, one feature vector per column\u001b[39;00m\n",
      "File \u001b[0;32m~/opt/anaconda3/envs/evaluate/lib/python3.11/site-packages/numpy/lib/npyio.py:1373\u001b[0m, in \u001b[0;36mloadtxt\u001b[0;34m(fname, dtype, comments, delimiter, converters, skiprows, usecols, unpack, ndmin, encoding, max_rows, quotechar, like)\u001b[0m\n\u001b[1;32m   1370\u001b[0m \u001b[39mif\u001b[39;00m \u001b[39misinstance\u001b[39m(delimiter, \u001b[39mbytes\u001b[39m):\n\u001b[1;32m   1371\u001b[0m     delimiter \u001b[39m=\u001b[39m delimiter\u001b[39m.\u001b[39mdecode(\u001b[39m'\u001b[39m\u001b[39mlatin1\u001b[39m\u001b[39m'\u001b[39m)\n\u001b[0;32m-> 1373\u001b[0m arr \u001b[39m=\u001b[39m _read(fname, dtype\u001b[39m=\u001b[39;49mdtype, comment\u001b[39m=\u001b[39;49mcomment, delimiter\u001b[39m=\u001b[39;49mdelimiter,\n\u001b[1;32m   1374\u001b[0m             converters\u001b[39m=\u001b[39;49mconverters, skiplines\u001b[39m=\u001b[39;49mskiprows, usecols\u001b[39m=\u001b[39;49musecols,\n\u001b[1;32m   1375\u001b[0m             unpack\u001b[39m=\u001b[39;49munpack, ndmin\u001b[39m=\u001b[39;49mndmin, encoding\u001b[39m=\u001b[39;49mencoding,\n\u001b[1;32m   1376\u001b[0m             max_rows\u001b[39m=\u001b[39;49mmax_rows, quote\u001b[39m=\u001b[39;49mquotechar)\n\u001b[1;32m   1378\u001b[0m \u001b[39mreturn\u001b[39;00m arr\n",
      "File \u001b[0;32m~/opt/anaconda3/envs/evaluate/lib/python3.11/site-packages/numpy/lib/npyio.py:1016\u001b[0m, in \u001b[0;36m_read\u001b[0;34m(fname, delimiter, comment, quote, imaginary_unit, usecols, skiplines, max_rows, converters, ndmin, unpack, dtype, encoding)\u001b[0m\n\u001b[1;32m   1013\u001b[0m     data \u001b[39m=\u001b[39m _preprocess_comments(data, comments, encoding)\n\u001b[1;32m   1015\u001b[0m \u001b[39mif\u001b[39;00m read_dtype_via_object_chunks \u001b[39mis\u001b[39;00m \u001b[39mNone\u001b[39;00m:\n\u001b[0;32m-> 1016\u001b[0m     arr \u001b[39m=\u001b[39m _load_from_filelike(\n\u001b[1;32m   1017\u001b[0m         data, delimiter\u001b[39m=\u001b[39;49mdelimiter, comment\u001b[39m=\u001b[39;49mcomment, quote\u001b[39m=\u001b[39;49mquote,\n\u001b[1;32m   1018\u001b[0m         imaginary_unit\u001b[39m=\u001b[39;49mimaginary_unit,\n\u001b[1;32m   1019\u001b[0m         usecols\u001b[39m=\u001b[39;49musecols, skiplines\u001b[39m=\u001b[39;49mskiplines, max_rows\u001b[39m=\u001b[39;49mmax_rows,\n\u001b[1;32m   1020\u001b[0m         converters\u001b[39m=\u001b[39;49mconverters, dtype\u001b[39m=\u001b[39;49mdtype,\n\u001b[1;32m   1021\u001b[0m         encoding\u001b[39m=\u001b[39;49mencoding, filelike\u001b[39m=\u001b[39;49mfilelike,\n\u001b[1;32m   1022\u001b[0m         byte_converters\u001b[39m=\u001b[39;49mbyte_converters)\n\u001b[1;32m   1024\u001b[0m \u001b[39melse\u001b[39;00m:\n\u001b[1;32m   1025\u001b[0m     \u001b[39m# This branch reads the file into chunks of object arrays and then\u001b[39;00m\n\u001b[1;32m   1026\u001b[0m     \u001b[39m# casts them to the desired actual dtype.  This ensures correct\u001b[39;00m\n\u001b[1;32m   1027\u001b[0m     \u001b[39m# string-length and datetime-unit discovery (like `arr.astype()`).\u001b[39;00m\n\u001b[1;32m   1028\u001b[0m     \u001b[39m# Due to chunking, certain error reports are less clear, currently.\u001b[39;00m\n\u001b[1;32m   1029\u001b[0m     \u001b[39mif\u001b[39;00m filelike:\n",
      "\u001b[0;31mValueError\u001b[0m: the number of columns changed from 9216 to 344 at row 246; use `usecols` to select a subset and avoid this error"
     ]
    }
   ],
   "source": [
    "# go through all the folds\n",
    "for i in range(5):\n",
    "    # read fold\n",
    "    print(f'\\nEvaluate Fold {i + 1}')\n",
    "    fold_dir = os.path.join(feature_path, f'fold_{i + 1}')\n",
    "    fold_info_file = f'track_fold_info_{i + 1}.csv'\n",
    "\n",
    "    # create eval class\n",
    "    pb_eval = PBEvaluation(dataset_path, fold_dir, fold_info_file)\n",
    "\n",
    "    # get zoos\n",
    "    if zoos is None:\n",
    "        zoos = pb_eval.zoos\n",
    "\n",
    "    mAP, CMC, mAP_per_id, CMC_per_id = pb_eval.eval_single_feat_file(epoch, f'feature_vectors_epoch_{i + 1}')\n",
    "    mAPs.append(mAP)\n",
    "    rank1s.append(CMC[0])\n",
    "\n",
    "    # add to data arrays\n",
    "    map_data.append([i, mAP] + [val for _, val in sorted(mAP_per_id.items())] + [val for _, val in pb_eval.map_per_zoo.items()])\n",
    "    r1_data.append([i, CMC[0]] + [val[0] for _, val in sorted(CMC_per_id.items())] + [val for _, val in pb_eval.r1_per_zoo.items()])\n",
    "\n",
    "print('\\nMean values of all 5 folds:')\n",
    "fold_mAP = np.sum(mAPs) / len(mAPs)\n",
    "fold_r1 = np.sum(rank1s) / len(rank1s)\n",
    "print(f'mAP: {fold_mAP}')\n",
    "print(f'R1: {fold_r1}')\n",
    "\n",
    "# save data\n",
    "animal_ids = np.ravel([z[1:] for z in zoos])\n",
    "col = ['fold', 'mean'] + [str(a_id) for a_id in animal_ids] + [z[0] for z in zoos]\n",
    "fold_file_r1 = pd.DataFrame(r1_data, columns=col)\n",
    "fold_file_map = pd.DataFrame(map_data, columns=col)\n",
    "\n",
    "fold_file_r1.to_csv('r1_5_fold_pb_paper.csv', index=False, sep=';')\n",
    "fold_file_map.to_csv('map_5_fold_pb_paper.csv', index=False, sep=';')\n",
    "print('--- saved ---')"
   ]
  },
  {
   "cell_type": "markdown",
   "metadata": {},
   "source": [
    "## Plot GLTR-based Graphs\n",
    "\n",
    "Prelim: GLTR mean and spread  \n",
    "Mean of every fold  \n",
    "Zoos comparison  \n",
    "ID comparison  \n",
    "TODO: Training curve (epoch)  \n",
    "TODO: Confusion Matrix  "
   ]
  },
  {
   "cell_type": "code",
   "execution_count": null,
   "metadata": {},
   "outputs": [],
   "source": [
    "# load data if nessesary\n",
    "eval_files = ''\n",
    "\n",
    "fold_file_r1 = pd.read_csv(os.path.join(eval_files, 'r1_5_fold_pb_paper.csv'), sep=';')\n",
    "fold_file_map = pd.read_csv(os.path.join(eval_files, 'map_5_fold_pb_paper.csv'), sep=';')"
   ]
  },
  {
   "cell_type": "code",
   "execution_count": null,
   "metadata": {},
   "outputs": [],
   "source": [
    "def def_plot(metric, x_title, x_ticks):\n",
    "    # plot graph\n",
    "    _, ax = plt.subplots()\n",
    "    if metric == 'r1':\n",
    "        plt.ylabel('Rank-1 (%)')\n",
    "    else:\n",
    "        plt.ylabel('mAP (%)')\n",
    "    plt.xlabel(x_title)\n",
    "    ax.set_axisbelow(True)\n",
    "    plt.grid(axis='y')\n",
    "\n",
    "    # set x values\n",
    "    ax.set_xticks(range(len(x_ticks)))\n",
    "    ax.set_xticklabels(x_ticks)\n",
    "    ax.set_ylim([0.0, 1.0])\n",
    "    ax.set_yticks([i / 100 for i in range(0, 101, 10)])\n",
    "    ax.set_yticklabels(range(0, 101, 10))\n",
    "\n",
    "    return ax"
   ]
  },
  {
   "cell_type": "code",
   "execution_count": null,
   "metadata": {},
   "outputs": [],
   "source": [
    "def plot_comp(metric, data):\n",
    "    # TODO\n",
    "    mean_fold = data['mean'].mean()\n",
    "    std_fold = data['mean'].std(ddof=0)\n",
    "\n",
    "    ax = def_plot(metric, 'Approaches', ['GLTR'])\n",
    "\n",
    "    plt.bar([0], mean_fold, align='center', color=colors[2], yerr=std_fold, ecolor='black', capsize=10)\n",
    "    plt.show()"
   ]
  },
  {
   "cell_type": "code",
   "execution_count": null,
   "metadata": {},
   "outputs": [],
   "source": [
    "def plot_fold(metric, data):\n",
    "    fold_mean = list(data['mean'])\n",
    "\n",
    "    ax = def_plot(metric, 'Folds', [str(i) for i in range(1, 6)])\n",
    "    colors_n = colors[:4] + [colors[6]]\n",
    "\n",
    "    plt.bar(list(range(5)), fold_mean, align='center', color=colors_n)\n",
    "    plt.show()"
   ]
  },
  {
   "cell_type": "code",
   "execution_count": null,
   "metadata": {},
   "outputs": [],
   "source": [
    "def plot_zoos(metric, data):\n",
    "    zoos = list(data.columns)[-7:]\n",
    "\n",
    "    mean_fold = data[zoos].mean()\n",
    "    std_fold = data[zoos].std(ddof=0)\n",
    "\n",
    "    ax = def_plot(metric, 'Zoos', zoos)\n",
    "\n",
    "    plt.bar(list(range(zoos)), mean_fold, align='center', color=colors, yerr=std_fold, ecolor='black', capsize=10)\n",
    "    plt.show()"
   ]
  },
  {
   "cell_type": "code",
   "execution_count": null,
   "metadata": {},
   "outputs": [],
   "source": [
    "def plot_ids(metric, data):\n",
    "    ids = list(data.columns)[2:-7]\n",
    "\n",
    "    mean_fold = data[ids].mean()\n",
    "    std_fold = data[ids].std(ddof=0)\n",
    "\n",
    "    ax = def_plot(metric, 'Individuals', ids)\n",
    "\n",
    "    plt.bar(list(range(ids)), mean_fold, align='center', color=colors, yerr=std_fold, ecolor='black', capsize=10)\n",
    "    plt.show()"
   ]
  },
  {
   "cell_type": "code",
   "execution_count": null,
   "metadata": {},
   "outputs": [],
   "source": []
  }
 ],
 "metadata": {
  "kernelspec": {
   "display_name": "Python 3.8.10 ('venv': venv)",
   "language": "python",
   "name": "python3"
  },
  "language_info": {
   "codemirror_mode": {
    "name": "ipython",
    "version": 3
   },
   "file_extension": ".py",
   "mimetype": "text/x-python",
   "name": "python",
   "nbconvert_exporter": "python",
   "pygments_lexer": "ipython3",
   "version": "3.11.4"
  },
  "orig_nbformat": 4,
  "vscode": {
   "interpreter": {
    "hash": "15ccc7015893333baa21de8e6e223890c902d97852d88e5ac034cc8936989a76"
   }
  }
 },
 "nbformat": 4,
 "nbformat_minor": 2
}
