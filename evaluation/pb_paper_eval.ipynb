{
 "cells": [
  {
   "cell_type": "markdown",
   "metadata": {},
   "source": [
    "# Evaluation of GLTR for Polar Bear Paper"
   ]
  },
  {
   "cell_type": "code",
   "execution_count": null,
   "metadata": {},
   "outputs": [],
   "source": [
    "%matplotlib widget\n",
    "%load_ext autoreload\n",
    "%autoreload 2"
   ]
  },
  {
   "cell_type": "code",
   "execution_count": null,
   "metadata": {},
   "outputs": [],
   "source": [
    "import numpy as np\n",
    "import pandas as pd\n",
    "import os\n",
    "import matplotlib.pyplot as plt\n",
    "import random as rnd\n",
    "from fau_colors import cmaps\n",
    "from matplotlib import patches as mpatches\n",
    "from pb_evaluation import PBEvaluation\n",
    "\n",
    "colors = cmaps.faculties_all"
   ]
  },
  {
   "cell_type": "markdown",
   "metadata": {},
   "source": [
    "## Process GLTR Feature Vectors\n",
    "\n",
    "Use the PBEvaluation class to get Rank-1 and mAP metrics for the GLTR feature vectors  \n",
    "Save the resulting files into csv files"
   ]
  },
  {
   "cell_type": "code",
   "execution_count": null,
   "metadata": {},
   "outputs": [],
   "source": [
    "# def paths\n",
    "dataset_path = '...'\n",
    "feature_path = '...'\n",
    "epoch = 250"
   ]
  },
  {
   "cell_type": "code",
   "execution_count": null,
   "metadata": {},
   "outputs": [],
   "source": [
    "# Setup\n",
    "fold_file_r1, fold_file_map = None, None\n",
    "r1_data, map_data = [], []\n",
    "mAPs, rank1s = [], []\n",
    "zoos = None"
   ]
  },
  {
   "cell_type": "code",
   "execution_count": null,
   "metadata": {},
   "outputs": [],
   "source": [
    "# go through all the folds\n",
    "for i in range(5):\n",
    "    # read fold\n",
    "    print(f'\\nEvaluate Fold {i + 1}')\n",
    "    fold_dir = os.path.join(feature_path, f'fold_{i + 1}')\n",
    "    fold_info_file = f'track_fold_info_{i + 1}.csv'\n",
    "\n",
    "    # create eval class\n",
    "    pb_eval = PBEvaluation(dataset_path, fold_dir, fold_info_file)\n",
    "\n",
    "    # get zoos\n",
    "    if zoos is None:\n",
    "        zoos = pb_eval.zoos\n",
    "\n",
    "    mAP, CMC, mAP_per_id, CMC_per_id = pb_eval.eval_single_feat_file(epoch, f'features_pb_fold_{i + 1}')\n",
    "    mAPs.append(mAP)\n",
    "    rank1s.append(CMC[0])\n",
    "\n",
    "    # add to data arrays\n",
    "    map_data.append([i, mAP] + [val for _, val in sorted(mAP_per_id.items())] + [val for _, val in pb_eval.map_per_zoo.items()])\n",
    "    r1_data.append([i, CMC[0]] + [val[0] for _, val in sorted(CMC_per_id.items())] + [val for _, val in pb_eval.r1_per_zoo.items()])\n",
    "\n",
    "print('\\nMean values of all 5 folds:')\n",
    "fold_mAP = np.sum(mAPs) / len(mAPs)\n",
    "fold_r1 = np.sum(rank1s) / len(rank1s)\n",
    "print(f'mAP: {fold_mAP}')\n",
    "print(f'R1: {fold_r1}')\n",
    "\n",
    "# save data\n",
    "animal_ids = np.ravel([z[1:] for z in zoos])\n",
    "col = ['fold', 'mean'] + [str(a_id) for a_id in animal_ids] + [z[0] for z in zoos]\n",
    "fold_file_r1 = pd.DataFrame(r1_data, columns=col)\n",
    "fold_file_map = pd.DataFrame(map_data, columns=col)\n",
    "\n",
    "fold_file_r1.to_csv('r1_5_fold_pb_paper.csv', index=False, sep=';')\n",
    "fold_file_map.to_csv('map_5_fold_pb_paper.csv', index=False, sep=';')\n",
    "print('--- saved ---')"
   ]
  },
  {
   "cell_type": "markdown",
   "metadata": {},
   "source": [
    "## Plot GLTR-based Graphs\n",
    "\n",
    "Prelim: GLTR mean and spread  \n",
    "Mean of every fold  \n",
    "Zoos comparison  \n",
    "ID comparison  \n",
    "TODO: Training curve (epoch)  \n",
    "TODO: Confusion Matrix  "
   ]
  },
  {
   "cell_type": "code",
   "execution_count": null,
   "metadata": {},
   "outputs": [],
   "source": [
    "# load data if nessesary\n",
    "eval_files = ''\n",
    "\n",
    "fold_file_r1 = pd.read_csv(os.path.join(eval_files, 'r1_5_fold_pb_paper.csv'), sep=';')\n",
    "fold_file_map = pd.read_csv(os.path.join(eval_files, 'map_5_fold_pb_paper.csv'), sep=';')"
   ]
  },
  {
   "cell_type": "code",
   "execution_count": null,
   "metadata": {},
   "outputs": [],
   "source": [
    "def def_plot(metric, x_title, x_ticks):\n",
    "    # plot graph\n",
    "    _, ax = plt.subplots()\n",
    "    if metric == 'r1':\n",
    "        plt.ylabel('Rank-1 (%)')\n",
    "    else:\n",
    "        plt.ylabel('mAP (%)')\n",
    "    plt.xlabel(x_title)\n",
    "    ax.set_axisbelow(True)\n",
    "    plt.grid(axis='y')\n",
    "\n",
    "    # set x values\n",
    "    ax.set_xticks(range(len(x_ticks)))\n",
    "    ax.set_xticklabels(x_ticks)\n",
    "    ax.set_ylim([0.0, 1.0])\n",
    "    ax.set_yticks([i / 100 for i in range(0, 101, 10)])\n",
    "    ax.set_yticklabels(range(0, 101, 10))\n",
    "\n",
    "    return ax"
   ]
  },
  {
   "cell_type": "code",
   "execution_count": null,
   "metadata": {},
   "outputs": [],
   "source": [
    "def plot_comp(metric, data):\n",
    "    # TODO\n",
    "    mean_fold = data['mean'].mean()\n",
    "    std_fold = data['mean'].std(ddof=0)\n",
    "\n",
    "    ax = def_plot(metric, 'Approaches', ['GLTR'])\n",
    "\n",
    "    plt.bar([0], mean_fold, align='center', color=colors[2], yerr=std_fold, ecolor='black', capsize=10)\n",
    "    plt.show()"
   ]
  },
  {
   "cell_type": "code",
   "execution_count": null,
   "metadata": {},
   "outputs": [],
   "source": [
    "def plot_fold(metric, data):\n",
    "    fold_mean = list(data['mean'])\n",
    "\n",
    "    ax = def_plot(metric, 'Folds', [str(i) for i in range(1, 6)])\n",
    "    colors_n = colors[:4] + [colors[6]]\n",
    "\n",
    "    plt.bar(list(range(5)), fold_mean, align='center', color=colors_n)\n",
    "    plt.show()"
   ]
  },
  {
   "cell_type": "code",
   "execution_count": null,
   "metadata": {},
   "outputs": [],
   "source": [
    "def plot_zoos(metric, data):\n",
    "    zoos = list(data.columns)[-7:]\n",
    "\n",
    "    mean_fold = data[zoos].mean()\n",
    "    std_fold = data[zoos].std(ddof=0)\n",
    "\n",
    "    ax = def_plot(metric, 'Zoos', zoos)\n",
    "\n",
    "    plt.bar(list(range(zoos)), mean_fold, align='center', color=colors, yerr=std_fold, ecolor='black', capsize=10)\n",
    "    plt.show()"
   ]
  },
  {
   "cell_type": "code",
   "execution_count": null,
   "metadata": {},
   "outputs": [],
   "source": [
    "def plot_ids(metric, data):\n",
    "    ids = list(data.columns)[2:-7]\n",
    "\n",
    "    mean_fold = data[ids].mean()\n",
    "    std_fold = data[ids].std(ddof=0)\n",
    "\n",
    "    ax = def_plot(metric, 'Individuals', ids)\n",
    "\n",
    "    plt.bar(list(range(ids)), mean_fold, align='center', color=colors, yerr=std_fold, ecolor='black', capsize=10)\n",
    "    plt.show()"
   ]
  },
  {
   "cell_type": "code",
   "execution_count": null,
   "metadata": {},
   "outputs": [],
   "source": []
  }
 ],
 "metadata": {
  "kernelspec": {
   "display_name": "Python 3.8.10 ('venv': venv)",
   "language": "python",
   "name": "python3"
  },
  "language_info": {
   "name": "python",
   "version": "3.8.10"
  },
  "orig_nbformat": 4,
  "vscode": {
   "interpreter": {
    "hash": "15ccc7015893333baa21de8e6e223890c902d97852d88e5ac034cc8936989a76"
   }
  }
 },
 "nbformat": 4,
 "nbformat_minor": 2
}
